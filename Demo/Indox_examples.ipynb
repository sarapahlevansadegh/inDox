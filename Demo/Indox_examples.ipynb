{
 "cells": [
  {
   "cell_type": "code",
   "execution_count": 1,
   "id": "2c27c4d8-997d-462f-9e22-c82225867e24",
   "metadata": {},
   "outputs": [],
   "source": [
    "import os\n",
    "from dotenv import load_dotenv\n",
    "\n",
    "load_dotenv()\n",
    "OPENAI_API_KEY = os.getenv('OPENAI_API_KEY')"
   ]
  },
  {
   "cell_type": "markdown",
   "id": "3a99b7e4-8f39-4705-91e5-163ee4e6dbe2",
   "metadata": {},
   "source": [
    "# With extra clustering layer\n",
    "#### Here, We use semantic_text_splitter"
   ]
  },
  {
   "cell_type": "code",
   "execution_count": 2,
   "id": "684014f7-53c6-4321-8ed4-bd124ed62e12",
   "metadata": {},
   "outputs": [],
   "source": [
    "from Indox import IndoxRetrievalAugmentation"
   ]
  },
  {
   "cell_type": "code",
   "execution_count": 3,
   "id": "ecdb9490-bdc0-4dc8-8212-a21947b97262",
   "metadata": {},
   "outputs": [
    {
     "name": "stdin",
     "output_type": "stream",
     "text": [
      "Would you like to add a clustering and summarization layer? This may double your token usage. Please select 'y' for yes or 'n' for no:  y\n"
     ]
    }
   ],
   "source": [
    "docs_file_path = \"sample.txt\"\n",
    "\n",
    "IRA = IndoxRetrievalAugmentation(docs=docs_file_path, max_tokens=200)"
   ]
  },
  {
   "cell_type": "code",
   "execution_count": 4,
   "id": "5e4c37f2-7cc8-42f0-b9f0-dcb7a6b6011a",
   "metadata": {},
   "outputs": [
    {
     "name": "stdout",
     "output_type": "stream",
     "text": [
      "Starting processing...\n"
     ]
    },
    {
     "name": "stderr",
     "output_type": "stream",
     "text": [
      "2024-04-24 14:33:42,675 - INFO - HTTP Request: POST https://api.openai.com/v1/embeddings \"HTTP/1.1 200 OK\"\n"
     ]
    },
    {
     "name": "stdout",
     "output_type": "stream",
     "text": [
      "--Generated 3 clusters--\n"
     ]
    },
    {
     "name": "stderr",
     "output_type": "stream",
     "text": [
      "2024-04-24 14:33:54,947 - INFO - HTTP Request: POST https://api.openai.com/v1/chat/completions \"HTTP/1.1 200 OK\"\n",
      "2024-04-24 14:33:58,914 - INFO - HTTP Request: POST https://api.openai.com/v1/chat/completions \"HTTP/1.1 200 OK\"\n",
      "2024-04-24 14:34:03,206 - INFO - HTTP Request: POST https://api.openai.com/v1/chat/completions \"HTTP/1.1 200 OK\"\n",
      "2024-04-24 14:34:05,662 - INFO - HTTP Request: POST https://api.openai.com/v1/embeddings \"HTTP/1.1 200 OK\"\n"
     ]
    },
    {
     "name": "stdout",
     "output_type": "stream",
     "text": [
      "--Generated 1 clusters--\n"
     ]
    },
    {
     "name": "stderr",
     "output_type": "stream",
     "text": [
      "2024-04-24 14:34:10,156 - INFO - HTTP Request: POST https://api.openai.com/v1/chat/completions \"HTTP/1.1 200 OK\"\n"
     ]
    },
    {
     "name": "stdout",
     "output_type": "stream",
     "text": [
      "Create 21 Chunks, 17 leaf chunks plus 4 extra chunks\n",
      "End Chunking & Clustering process\n"
     ]
    }
   ],
   "source": [
    "all_chunks = IRA.get_all_chunks()"
   ]
  },
  {
   "cell_type": "code",
   "execution_count": 5,
   "id": "6c93389f-83a6-47d7-9f15-fe4aef0ba996",
   "metadata": {},
   "outputs": [
    {
     "data": {
      "text/plain": [
       "21"
      ]
     },
     "execution_count": 5,
     "metadata": {},
     "output_type": "execute_result"
    }
   ],
   "source": [
    "len(all_chunks)"
   ]
  },
  {
   "cell_type": "code",
   "execution_count": 6,
   "id": "a4183519-88f8-4f15-bb61-7ca4dee56160",
   "metadata": {},
   "outputs": [],
   "source": [
    "IRA.add_vector_store(collection_name='sample_collection')"
   ]
  },
  {
   "cell_type": "code",
   "execution_count": null,
   "id": "c340be0d-051d-4a00-8138-061908aeb6fe",
   "metadata": {},
   "outputs": [],
   "source": [
    "IRA.store_in_vectorstore(all_chunks=all_chunks)"
   ]
  },
  {
   "cell_type": "code",
   "execution_count": null,
   "id": "dbd8bd5c-93f8-441a-8cf3-2a1e9ec93561",
   "metadata": {},
   "outputs": [],
   "source": [
    "response, scores, context = IRA.answer_question(query=\"How did Cinderella reach her happy ending?\", top_k=5)\n",
    "print(\"Responses:\", response)\n",
    "print(\"Scores:\", scores)"
   ]
  },
  {
   "cell_type": "code",
   "execution_count": null,
   "id": "1691feb5-a0a3-49fa-aff9-04a9028bdc0d",
   "metadata": {},
   "outputs": [],
   "source": [
    "print(\"Retrieve chunks:\", context)"
   ]
  },
  {
   "cell_type": "code",
   "execution_count": null,
   "id": "902a7168-22a6-4f87-9c8e-c263ee49e6ca",
   "metadata": {},
   "outputs": [],
   "source": [
    "IRA.get_tokens_info()"
   ]
  },
  {
   "cell_type": "code",
   "execution_count": null,
   "id": "074f9ac0-bc5d-4ae7-b3e5-b186481542fe",
   "metadata": {},
   "outputs": [],
   "source": []
  },
  {
   "cell_type": "code",
   "execution_count": null,
   "id": "d89a23e5-6c69-4e4a-a633-d1c6ac19ecae",
   "metadata": {},
   "outputs": [],
   "source": []
  },
  {
   "cell_type": "markdown",
   "id": "c4f168b3-6f46-4b65-9bce-aef6aad057c2",
   "metadata": {},
   "source": [
    "# Without clustering layer"
   ]
  },
  {
   "cell_type": "code",
   "execution_count": 2,
   "id": "f0f3d84b-a5ee-4095-ae82-133e2c7696b5",
   "metadata": {},
   "outputs": [],
   "source": [
    "from Indox import IndoxRetrievalAugmentation"
   ]
  },
  {
   "cell_type": "code",
   "execution_count": 3,
   "id": "652b17b1-57d4-4e10-bf1b-cf8d3ff37e16",
   "metadata": {},
   "outputs": [
    {
     "name": "stdin",
     "output_type": "stream",
     "text": [
      "Would you like to add a clustering and summarization layer? This may double your token usage. Please select 'y' for yes or 'n' for no:  n\n"
     ]
    }
   ],
   "source": [
    "docs_file_path = \"sample.txt\"\n",
    "\n",
    "IRA = IndoxRetrievalAugmentation(docs=docs_file_path, max_tokens=200)"
   ]
  },
  {
   "cell_type": "code",
   "execution_count": 4,
   "id": "e2538dd3-b93f-4d14-96a0-fd5c5a08405a",
   "metadata": {},
   "outputs": [
    {
     "name": "stdout",
     "output_type": "stream",
     "text": [
      "Starting processing...\n",
      "End Chunking process\n"
     ]
    }
   ],
   "source": [
    "all_chunks = IRA.get_all_chunks()"
   ]
  },
  {
   "cell_type": "code",
   "execution_count": 5,
   "id": "8ca26403-aeab-4f0c-8dc5-35938988f12c",
   "metadata": {},
   "outputs": [
    {
     "data": {
      "text/plain": [
       "17"
      ]
     },
     "execution_count": 5,
     "metadata": {},
     "output_type": "execute_result"
    }
   ],
   "source": [
    "len(all_chunks)"
   ]
  },
  {
   "cell_type": "code",
   "execution_count": 6,
   "id": "cb55ae79-5a75-488a-94d7-ad9c545be678",
   "metadata": {},
   "outputs": [],
   "source": [
    "IRA.add_vector_store(collection_name='sample_collection')"
   ]
  },
  {
   "cell_type": "code",
   "execution_count": 7,
   "id": "e3854043-625c-4408-a7ae-f60f786c4834",
   "metadata": {},
   "outputs": [
    {
     "name": "stderr",
     "output_type": "stream",
     "text": [
      "2024-04-24 14:27:34,929 - INFO - HTTP Request: POST https://api.openai.com/v1/embeddings \"HTTP/1.1 200 OK\"\n",
      "2024-04-24 14:27:35,360 - INFO - Document added successfully to the vector store.\n"
     ]
    },
    {
     "data": {
      "text/plain": [
       "<Indox.vectorstore.PGVectorStore at 0x284f1e0fec0>"
      ]
     },
     "execution_count": 7,
     "metadata": {},
     "output_type": "execute_result"
    }
   ],
   "source": [
    "IRA.store_in_vectorstore(all_chunks=all_chunks)"
   ]
  },
  {
   "cell_type": "code",
   "execution_count": 8,
   "id": "a5ee961a-56be-4294-818f-8aa363b342f2",
   "metadata": {},
   "outputs": [
    {
     "name": "stderr",
     "output_type": "stream",
     "text": [
      "2024-04-24 14:27:45,254 - INFO - HTTP Request: POST https://api.openai.com/v1/embeddings \"HTTP/1.1 200 OK\"\n",
      "2024-04-24 14:27:48,682 - INFO - HTTP Request: POST https://api.openai.com/v1/chat/completions \"HTTP/1.1 200 OK\"\n"
     ]
    },
    {
     "name": "stdout",
     "output_type": "stream",
     "text": [
      "Responses: Cinderella reached her happy ending by persevering through mistreatment and cruelty from her stepmother and stepsisters, remaining kind and pious despite the hardships she faced. Ultimately, her true identity as the rightful bride was revealed when she tried on the golden slipper and it fit perfectly, leading to her recognition by the prince. This recognition of her true worth and goodness allowed Cinderella to overcome her circumstances and find happiness in the end.\n",
      "Scores: [0.40115392208098943, 0.40314738694178, 0.4274202926504428, 0.428340622384474, 0.4313240390226808]\n"
     ]
    }
   ],
   "source": [
    "response, scores, context = IRA.answer_question(query=\"How did Cinderella reach her happy ending?\", top_k=5)\n",
    "print(\"Responses:\", response)\n",
    "print(\"Scores:\", scores)"
   ]
  },
  {
   "cell_type": "code",
   "execution_count": 9,
   "id": "57e99011-1e12-4766-b152-c2ded0c15ef7",
   "metadata": {},
   "outputs": [
    {
     "name": "stdout",
     "output_type": "stream",
     "text": [
      "Retrieve chunks: ['The documentation provided is a detailed retelling of the classic fairy tale \"Cinderella.\" It starts with the well-known scene of the step-sisters trying to force their feet into the golden slipper, cutting off parts of their feet to fit, and ultimately being exposed as frauds. The true bride, Cinderella, finally gets her chance when she fits perfectly into the slipper, leading to her recognition by the prince. The story highlights the themes of kindness, perseverance, and ultimately, justice', 'The provided text is a narrative that tells the story of Cinderella, a fairy tale character who undergoes a series of trials involving a golden slipper. In the story, two stepsisters attempt to deceive the prince by cutting off parts of their feet to fit into the slipper, but fail when blood is discovered in the shoe. Eventually, Cinderella, who was mistreated and underestimated by her stepmother and stepsisters, is revealed to be the true bride when she tries on the slipper', 'The documentation provided is a retelling of the classic fairy tale of Cinderella. It begins with the wife of a rich man passing away and leaving her daughter with words of wisdom and protection. The daughter is mistreated by her stepmother and stepsisters after her father remarries and is given the nickname Cinderella due to the ashes she is covered in from her hard work. Despite the cruelty she faces, Cinderella remains kind and pious.  The story includes the familiar elements of Cinderella being denied', 'The documentation provided is a retelling of the classic fairy tale of Cinderella. It begins with the wife of a rich man passing away, leaving her daughter with words of wisdom and protection. The daughter, mistreated by her stepmother and stepsisters, is given the nickname Cinderella due to the ashes she is covered in from her hard work. Despite the cruelty she faces, Cinderella remains kind and pious. The story includes elements like Cinderella being denied by her stepfamily and the scene', 'grave beneath the hazel-tree, and cried -      shiver and quiver, little tree,      silver and gold throw down over me. Then the bird threw a gold and silver dress down to her, and slippers embroidered with silk and silver.  She put on the dress with all speed, and went to the wedding.  Her step-sisters and the step-mother however did not know her, and thought she must be a foreign princess, for she looked so beautiful in the golden dress. They never once thought of cinderella, and believed that she was sitting at home in the dirt, picking lentils out of the ashes.  The prince approached her, took her by the hand and danced with her. He would dance with no other maiden, and never let loose of her hand, and if any one else came to invite her, he said, this is my partner. She danced till it was evening, and then she wanted to go home.']\n"
     ]
    }
   ],
   "source": [
    "print(\"Retrieve chunks:\", context)"
   ]
  },
  {
   "cell_type": "code",
   "execution_count": 10,
   "id": "34f34de4-e443-48df-b25c-96ef3c5c2b0a",
   "metadata": {},
   "outputs": [
    {
     "name": "stdout",
     "output_type": "stream",
     "text": [
      "\n",
      "                Overview of All Tokens Used:\n",
      "                Tokens used in the embedding section that were sent to the database: 3355\n",
      "                           \n"
     ]
    }
   ],
   "source": [
    "IRA.get_tokens_info()"
   ]
  },
  {
   "cell_type": "code",
   "execution_count": null,
   "id": "e683c4bd-fc9e-4459-9258-95f735559b02",
   "metadata": {},
   "outputs": [],
   "source": []
  }
 ],
 "metadata": {
  "kernelspec": {
   "display_name": "Python 3 (ipykernel)",
   "language": "python",
   "name": "python3"
  },
  "language_info": {
   "codemirror_mode": {
    "name": "ipython",
    "version": 3
   },
   "file_extension": ".py",
   "mimetype": "text/x-python",
   "name": "python",
   "nbconvert_exporter": "python",
   "pygments_lexer": "ipython3",
   "version": "3.12.0"
  }
 },
 "nbformat": 4,
 "nbformat_minor": 5
}
